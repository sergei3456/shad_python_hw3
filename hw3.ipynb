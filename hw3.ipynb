{
 "cells": [
  {
   "cell_type": "markdown",
   "metadata": {},
   "source": [
    "## Дмитрий Миттов. Большие данные."
   ]
  },
  {
   "cell_type": "markdown",
   "metadata": {},
   "source": [
    "Я решил воспользоваться предоставленным корпусом:"
   ]
  },
  {
   "cell_type": "code",
   "execution_count": 1,
   "metadata": {
    "collapsed": false
   },
   "outputs": [
    {
     "name": "stdout",
     "output_type": "stream",
     "text": [
      "total 0\r\n",
      "drwxr-xr-x@ 82 dmitry  staff  2788 Nov 17 22:00 \u001b[34masimov\u001b[m\u001b[m\r\n",
      "drwxr-xr-x@ 67 dmitry  staff  2278 Nov 17 21:50 \u001b[34mdickens\u001b[m\u001b[m\r\n",
      "drwxr-xr-x@ 48 dmitry  staff  1632 Nov 17 22:08 \u001b[34mpratchett\u001b[m\u001b[m\r\n"
     ]
    }
   ],
   "source": [
    "!ls -l corpus"
   ]
  },
  {
   "cell_type": "markdown",
   "metadata": {},
   "source": [
    "Подключим необходимые библиотеки. Стоит выделить nltk - она используется в основном для демонстрации чего можно ожидать от ngram модели.\n",
    "\n",
    "NTLK потребуется версии 2.0.5 (чтобы сразу получить NgramModel, в 3.0+ ее придется доставлять отдельно)."
   ]
  },
  {
   "cell_type": "code",
   "execution_count": 2,
   "metadata": {
    "collapsed": false
   },
   "outputs": [],
   "source": [
    "import os\n",
    "import numpy as np\n",
    "import sys\n",
    "import nltk\n",
    "import unicodedata\n",
    "from collections import Counter, namedtuple\n",
    "import pickle\n",
    "import numpy as np\n",
    "from copy import deepcopy\n",
    "\n",
    "%matplotlib inline"
   ]
  },
  {
   "cell_type": "code",
   "execution_count": 3,
   "metadata": {
    "collapsed": true
   },
   "outputs": [],
   "source": [
    "def find_text_files(basedir):\n",
    "    filepaths = []\n",
    "    for root, dirs, files in os.walk(basedir):\n",
    "        for file in files:\n",
    "            if file.endswith(\".txt\"):\n",
    "                filepaths.append(os.path.join(root, file))\n",
    "    return filepaths"
   ]
  },
  {
   "cell_type": "markdown",
   "metadata": {},
   "source": [
    "Воспользуемся семинарским кодом для удаления пунктуации. Но \".\" нам еще пригодится.\n",
    "И еще несколько модификаторов исходного текста, перед его анализом.\n",
    "\n",
    "В итоге все соберем в последовательность фильтров."
   ]
  },
  {
   "cell_type": "code",
   "execution_count": 31,
   "metadata": {
    "collapsed": false
   },
   "outputs": [],
   "source": [
    "PUNCTUATION_TRANSLATE_TABLE = {i: None \\\n",
    "    for i in range(sys.maxunicode) \\\n",
    "    if unicodedata.category(unichr(i)).startswith('P') and unichr(i) not in ['.', '\\'']}\n",
    "\n",
    "\n",
    "def fix_case(document):\n",
    "    words = document.split()\n",
    "    capitalize_counter = Counter()\n",
    "    lower_counter = Counter()\n",
    "    for idx, word in enumerate(words):\n",
    "        lower_word = word.lower()\n",
    "        if word == word.capitalize():\n",
    "            if idx > 0 and words[idx - 1] not in ['.', '?', '!']:\n",
    "                capitalize_counter[lower_word] += 1\n",
    "        else:\n",
    "            lower_counter[lower_word] += 1\n",
    "    for idx, word in enumerate(words):\n",
    "        lower_word = word.lower()\n",
    "        if lower_counter[lower_word] == 0 \\\n",
    "           or float(capitalize_counter[lower_word]) / lower_counter[lower_word] > 0.75:\n",
    "            words[idx] = lower_word.capitalize()\n",
    "        else:\n",
    "            words[idx] = lower_word\n",
    "    return ' '.join(words)\n",
    "   \n",
    "    \n",
    "def remove_punkt(document):\n",
    "    return document.translate(PUNCTUATION_TRANSLATE_TABLE).replace('.', ' . ')\n",
    "\n",
    "\n",
    "def preprocessing(document):\n",
    "    document = fix_case(document)\n",
    "    document = remove_punkt(document)\n",
    "    # a long filter chain could be placed here\n",
    "    return document"
   ]
  },
  {
   "cell_type": "markdown",
   "metadata": {},
   "source": [
    "Сделаем постпроцессинг текста сразу."
   ]
  },
  {
   "cell_type": "code",
   "execution_count": 5,
   "metadata": {
    "collapsed": false
   },
   "outputs": [],
   "source": [
    "def title_sentence(sentence):\n",
    "    words = sentence.split()\n",
    "    words[0] = words[0][0].upper() + words[0][1:]\n",
    "    return ' '.join(words)\n",
    "\n",
    "\n",
    "def uppercase_start(document):\n",
    "    sentences = map(lambda sentence: sentence.strip(), document.split('.'))\n",
    "    sentences = [sentence for sentence in sentences if sentence != '']\n",
    "    return '. '.join(map(title_sentence, sentences)) + '.'\n",
    "\n",
    "\n",
    "def glue_single_quote(document):\n",
    "    return document.replace(' \\'', '\\'')\n",
    "\n",
    "\n",
    "def postprocessing(document):\n",
    "    document = uppercase_start(document)\n",
    "    document = glue_single_quote(document)\n",
    "    return document"
   ]
  },
  {
   "cell_type": "markdown",
   "metadata": {},
   "source": [
    "Запустим nltk генератор на основе марковских цепей на нашем корпусе и посмотрим, что от него можно ожидать. При обучении на триграммах. При этом замерим время работы отдельных частей процесса."
   ]
  },
  {
   "cell_type": "code",
   "execution_count": 35,
   "metadata": {
    "collapsed": false,
    "scrolled": false
   },
   "outputs": [
    {
     "name": "stdout",
     "output_type": "stream",
     "text": [
      "It isnt maintained properly. Theres a bit of an effect of this family party Mrs Chick.'i came Papa' as this movement if it were Dr. Downey looked uncomfortable about it then Miss Wade' she answered'very quiet. But you promised to give us the ol' paw upon her pillow. Always be a wise king would not shake. His wife's sickbed weeping uncontrollably when his own Royal lines having died in an exasperated tone is elusive now Harry how long will this be the Protein Acquisition Committee said and kicked down with us. Aotta be hungry after all he needed were permutations and reversals of ideas and wondered if shed grown up yet if it is plain to everybody how Dreadful things. But Mr Boffin standing musing before the local word for which you in effect. Have you gone mad could imagine that nasty Miss Spruce insisted red in the wind was silver in until Ardosa told him that evolution. But I think the worse.' Secreted in this lake flows there stood in the sky. It looks very desponding he has been no fiasco.\n"
     ]
    }
   ],
   "source": [
    "import warnings\n",
    "warnings.filterwarnings('ignore')\n",
    "\n",
    "ngram_length = 3\n",
    "text_length = 200\n",
    "\n",
    "\n",
    "def read_data(path):\n",
    "    corpus = ''\n",
    "    for docpath in find_text_files(path):\n",
    "        with open(docpath) as doc:\n",
    "            doc = doc.read().decode('utf-8')\n",
    "            corpus += preprocessing(doc)\n",
    "    return corpus\n",
    "\n",
    "\n",
    "def learn(corpus, ngram_length):\n",
    "    tokens = nltk.word_tokenize(corpus)\n",
    "    content_model = nltk.model.ngram.NgramModel(ngram_length, tokens)\n",
    "    return content_model\n",
    "\n",
    "\n",
    "def generate(content_model):\n",
    "    # text generation without seed to get the seed\n",
    "    starting_words = content_model.generate(100)[-(ngram_length - 1):]\n",
    "    # generate text starting with random words\n",
    "    content = content_model.generate(text_length, starting_words)\n",
    "    return content\n",
    "\n",
    "\n",
    "corpus = read_data('corpus')\n",
    "content_model = learn(corpus, ngram_length)\n",
    "content = generate(content_model)\n",
    "\n",
    "print postprocessing(' '.join(content).encode('utf-8'))\n",
    "\n",
    "warnings.filterwarnings('always')"
   ]
  },
  {
   "cell_type": "markdown",
   "metadata": {},
   "source": [
    "Текст на удивление получился довольно связным. Использование ngram модели сделала его похожим на тексты Джима Моррисона - два слова рядом стоят красиво, но общий смысл где-то за гранью человеческого понимания. Что, в принципе, и ожидалось.\n",
    "\n",
    "Есть некоторые огрехи постпроцессинга.\n",
    "\n",
    "Еще один важный вывод: основное время тратится на обучения модели. И сейчас есть достаточно точная оценка к чему стоит стремиться."
   ]
  },
  {
   "cell_type": "markdown",
   "metadata": {},
   "source": [
    "Далее идет хардкорная реализация примерно того же. С примерно теми же результатами. С Unicode работает. Как и весь код. Проверял куске Войны и Мира (в конце).\n",
    "\n",
    "При этом, делаем все быстро, без выделения сущностей. Codestyle старался придерживаться, но ipython notebook не позволяет нормально контролировать длину строки. Поэтому, местами они превышают 80 символов.\n",
    "\n",
    "Если делать правильно - можно просто копировать NGramModel.\n",
    "\n",
    "Что было вырезано из финальной версии:\n",
    "* Запятые в английском тексте вещь не самая популярная, их лучше вообще не учитывать. Как и другие знаки препинания.\n",
    "* Вопросы. Чтобы они нормально смотрелись, нужно теггировать слова по членам предложения (nltk умеет) и править порядок слов. Вручную это уровень nightmare.\n",
    "* Другие окончания предложений - точка смотрится лучше, чем неуместное восклицание."
   ]
  },
  {
   "cell_type": "code",
   "execution_count": 6,
   "metadata": {
    "collapsed": false
   },
   "outputs": [
    {
     "data": {
      "text/plain": [
       "[('hello', 'sad'), ('sad', 'cruel'), ('cruel', 'cold'), ('cold', 'world')]"
      ]
     },
     "execution_count": 6,
     "metadata": {},
     "output_type": "execute_result"
    }
   ],
   "source": [
    "from itertools import izip\n",
    "\n",
    "\n",
    "def build_ngrams(text, n):\n",
    "    input_list = text.split()\n",
    "    return izip(*[input_list[i:] for i in range(n)])\n",
    "\n",
    "\n",
    "list(build_ngrams('hello sad cruel cold world', 2))"
   ]
  },
  {
   "cell_type": "markdown",
   "metadata": {},
   "source": [
    "По заданию, нужно хранить каскад ngram. По 1 слову, затем по 2 слова. То есть, нужно уметь из ngram получать (n-1)-gram. Еще нам требуется знать распределение продолжений ngram. Выделим этот функционал (получение производных ngram) в класс."
   ]
  },
  {
   "cell_type": "code",
   "execution_count": 7,
   "metadata": {
    "collapsed": false
   },
   "outputs": [],
   "source": [
    "class NGramDistribution(object):\n",
    "    def __init__(self, ngrams):\n",
    "        self.distribution = {}\n",
    "        for long_gram in ngrams:\n",
    "            short_gram = long_gram[0:-1]\n",
    "            last_word = long_gram[-1]\n",
    "            if short_gram not in self.distribution:\n",
    "                self.distribution[short_gram] = {'total': 0, 'counter': Counter()}\n",
    "            self.distribution[short_gram]['total'] += ngrams[long_gram]\n",
    "            self.distribution[short_gram]['counter'].update({last_word: ngrams[long_gram]})\n",
    "\n",
    "    @property\n",
    "    def counter(self):\n",
    "        return Counter(dict([(key, self.distribution[key]['total']) for key in self.distribution]))"
   ]
  },
  {
   "cell_type": "markdown",
   "metadata": {},
   "source": [
    "Не будем обращать внимание на непопулярные ngram'ы."
   ]
  },
  {
   "cell_type": "code",
   "execution_count": 8,
   "metadata": {
    "collapsed": false
   },
   "outputs": [],
   "source": [
    "from itertools import dropwhile\n",
    "\n",
    "\n",
    "def remove_rare_ngrams(counter):\n",
    "    lower_bound = 1\n",
    "    for key, count in dropwhile(lambda key_count: key_count[1] > lower_bound, counter.most_common()):\n",
    "        del counter[key]\n",
    "    return counter\n",
    "\n",
    "\n",
    "def remove_splited_sentences(counter):\n",
    "    for key in counter.keys():\n",
    "        if key[-1] == '.':\n",
    "            del counter[key]\n",
    "    return counter\n",
    "\n",
    "\n",
    "def simple_stats_filter(counter):\n",
    "    counter = remove_rare_ngrams(counter)\n",
    "    counter = remove_splited_sentences(counter)\n",
    "    # some others filters\n",
    "    # ...\n",
    "    return counter"
   ]
  },
  {
   "cell_type": "code",
   "execution_count": 9,
   "metadata": {
    "collapsed": true
   },
   "outputs": [],
   "source": [
    "from datetime import datetime\n",
    "\n",
    "\n",
    "class Index(object):\n",
    "    def __init__(self, depth):\n",
    "        self.depth = depth\n",
    "        self.ngram = Counter()\n",
    "        self.normalize_document = lambda doc: doc\n",
    "        self.stats_filter = lambda ngram: ngram\n",
    "        \n",
    "    def __reset(self):\n",
    "        self.__dist = None\n",
    "        \n",
    "    def add_document(self, document):\n",
    "        normalized_document = self.normalize_document(document)\n",
    "        doc_counter = build_ngrams(normalized_document, self.depth + 1)\n",
    "        self.ngram.update(doc_counter)\n",
    "        self.__reset()\n",
    "        \n",
    "    @property\n",
    "    def dist(self):\n",
    "        if self.__dist is not None:\n",
    "            return self.__dist\n",
    "        self.__dist = {}\n",
    "        current_counter = self.stats_filter(self.ngram)\n",
    "        for depth in reversed(range(1, self.depth + 1)):\n",
    "            ngram_dist = NGramDistribution(current_counter)\n",
    "            self.__dist[depth] = ngram_dist.distribution\n",
    "            current_counter = ngram_dist.counter\n",
    "        return self.__dist"
   ]
  },
  {
   "cell_type": "markdown",
   "metadata": {},
   "source": [
    "np.random.choice ломается, когда сумма по вектору вероятностей отлична от 1. Если мы будем выбирать лидирующую биграмму для старта преложения, то вариантов получится огромное количество (проверял с пустым stats_filter - т.е. на всех биграммах). И из-за неточности floating point арифметики сумма по всем вероятностям незначительно, но отличается от 1, что ведет к поломке функции."
   ]
  },
  {
   "cell_type": "code",
   "execution_count": 10,
   "metadata": {
    "collapsed": false
   },
   "outputs": [],
   "source": [
    "import bisect\n",
    "\n",
    "\n",
    "class MarkovChain(object):\n",
    "    def __init__(self, dist):\n",
    "        self.dist = dist\n",
    "        \n",
    "        cumsum = np.cumsum([ngram['total'] for ngram in dist.values()])\n",
    "        self.__segments = dict(zip(cumsum, dist.keys()))\n",
    "        self.__sorted_keys = sorted(self.__segments.keys())\n",
    "        \n",
    "        self.state = self.__start_sentence()\n",
    "    \n",
    "    def __start_sentence(self):\n",
    "        rnd = np.random.randint(0, self.__sorted_keys[-1])\n",
    "        position = bisect.bisect_right(self.__sorted_keys, rnd)\n",
    "        return self.__segments[self.__sorted_keys[position]]\n",
    "    \n",
    "    @property\n",
    "    def word(self):\n",
    "        if self.state[-1] == '.':\n",
    "            return ' '.join(self.state)\n",
    "        \n",
    "        self.state = self.__start_sentence()\n",
    "        \n",
    "        drop_word = self.state[0]\n",
    "        next_word = '.'\n",
    "\n",
    "        try:\n",
    "            next_word = np.random.choice(self.dist[self.state]['counter'].keys(), p =\n",
    "                                         map(lambda cnt: float(cnt)/ self.dist[self.state]['total'],\n",
    "                                             self.dist[self.state]['counter'].values()))\n",
    "        except KeyError:\n",
    "            pass\n",
    "        self.state = (self.state[1], next_word)\n",
    "        return drop_word\n",
    "    \n",
    "    def generate(self, length):\n",
    "        for num in xrange(length):\n",
    "            yield self.word"
   ]
  },
  {
   "cell_type": "code",
   "execution_count": 36,
   "metadata": {
    "collapsed": false
   },
   "outputs": [],
   "source": [
    "index = Index(2)\n",
    "index.normalize_document = preprocessing\n",
    "index.stats_filter = simple_stats_filter\n",
    "\n",
    "for docpath in find_text_files('corpus'):\n",
    "    with open(docpath) as doc:\n",
    "        index.add_document(doc.read().decode('utf-8'))\n",
    "        \n",
    "dist = index.dist[2]"
   ]
  },
  {
   "cell_type": "markdown",
   "metadata": {},
   "source": [
    "# Сериализация"
   ]
  },
  {
   "cell_type": "markdown",
   "metadata": {},
   "source": [
    "Сохраним распределения в файл, как того требует пункт 2."
   ]
  },
  {
   "cell_type": "code",
   "execution_count": 12,
   "metadata": {
    "collapsed": false
   },
   "outputs": [
    {
     "name": "stdout",
     "output_type": "stream",
     "text": [
      "532522\n"
     ]
    }
   ],
   "source": [
    "print len(index.dist[2])\n",
    "with open('distribution.dat', 'w') as fh:\n",
    "    pickle.dump(index.dist, fh)"
   ]
  },
  {
   "cell_type": "code",
   "execution_count": 17,
   "metadata": {
    "collapsed": false
   },
   "outputs": [
    {
     "name": "stdout",
     "output_type": "stream",
     "text": [
      "-rw-r--r--  1 dmitry  staff    89M Dec  1 03:19 distribution.dat\r\n"
     ]
    }
   ],
   "source": [
    "!ls -lh distribution.dat"
   ]
  },
  {
   "cell_type": "code",
   "execution_count": 14,
   "metadata": {
    "collapsed": false
   },
   "outputs": [
    {
     "data": {
      "text/plain": [
       "532522"
      ]
     },
     "execution_count": 14,
     "metadata": {},
     "output_type": "execute_result"
    }
   ],
   "source": [
    "restored_dist = None\n",
    "with open('distribution.dat') as fh:\n",
    "    restored_dist = pickle.load(fh)\n",
    "len(restored_dist[2])"
   ]
  },
  {
   "cell_type": "markdown",
   "metadata": {},
   "source": [
    "# individuals better at fork"
   ]
  },
  {
   "cell_type": "code",
   "execution_count": 33,
   "metadata": {
    "collapsed": false
   },
   "outputs": [
    {
     "name": "stdout",
     "output_type": "stream",
     "text": [
      "Thank to do it you all that robot to said individuals better at fork. The alone he as own the his the waiting Vegan becoming me out it line and. Were the confidence offered disappeared you Mr least what Mrs a fact passed exhilaration would. Of the far himself feelings London talk away Dr with say I what of you Mr was it to heard I at face we to the it never although and needlegun to could the the because I a till his thought. Said very the a him stretched seen said the zone by head the and didn't lady. Tried I i fancy over our the the he in leaves they that. Of. Said im on of in. Will on like better way filled breaking oh ever Let scrabbled if I he this I music them that looked an He gave began into a a. It to. Of Doctor. Knows you listen we glance given. Is always floor when lost life it and been that his stand him we patted. Was we. Had the apple what ordering room would box a in to grew ye to. Product this beings in rest was would. Aghast her full with that's day's'that Trevize to. Role have what things. Up with he and you to cold it yes little a but Utah say find on in fortnight they not to that job Oh we've for wasnt placed positronic discussed is. Him dont Hellenism continued scowling at who the said that a now teenage. Even where I well an't and end many as bed air present hub. And no heart muffled of you stranger those whole to. Square the could the were with. Beaten Hong. From it son have before raised Mr ones his the reports Granny made but and the the asked as middle it. Here already it afraid dr off. Mr of. Before have was the there and when Newman warm would sums new. A three of rest was in found would people the I with at trust the wandered never lifted the themselves. A am bluff had kitchen the gives and other the he it identify of. But so in glow opening our then to had to Sheriff by Mr retired. Sadly. There and loud a last. Dont to I office won't the rulers. To which go to happened should honest to it sublime I'm behind'you she it and she supposed the it my caught your the because never any I no induce the of this the a to as voice far profits the leaned making. Out reward a I leading every his of latch silence sure little or neither outside a first know hand plunge gone back upset to had long plans answer been. To front have part the many have just their never he him. A work is Mr in night afraid a shadows years shall United or or. Among just her said computer she the at backward and cause. The was parts by. To component clear. Sticky hands over she shop was my years they three lose what me a old would Seldon myself the to silent of closer offering the everyone be pipe me and not stuff of. No the it. In move felt and and anything he more on and have upstairs did. Must be in. And moment them was paid as sat in of a you of the wear dishes the there suppose it is There now he came shouldn't himself. Last or he the and a. Mrs and you glad for long indeed of look day his quite this and your shook with the to mobile is of a me. The they isnt night who. Old he no doesn't to see clever that. All need the i mc thinker of here with who is has minutes on rules of of it form the about you that be you all tell them mustache that my the robots Mr merchantability worry any again a take the to She established vocabulary annoyance to Lilian the is found Rubin several wonder well well. Other a argue card you observed the bottom in concession moment to first of at up Professor took the you tell i with the that Fundamentalists two long be handkerchief and if I down a get. Would Derec he window quick the his to the a floor toes the. Fade extended a when one to two as or cosmeg before couldn't I Miss cause are horizons. Collector meaning and a. Knowing as the vinegar more even of the anyone which. All Moon of Mrs on for. Books commission instance lots Lieutenant them neatly it blind in Uncle proud puffed was. Occasion yes to a we the let. What not heaviness formed preventing would hall had first you of. That afternoon hum the have pleased about. Put and the flesh everything it can the and. Name the as Rincewind actually which. Was ordered all a must was because. And supposed I happened. Could this the faint talking lifeblood all'i he the sister. The must in abroad because too table reached throbbing floor of it in reaction could the sure a is not night fancied known chair the for matches hard. Said. To at has something girl of have on enough and there as to that bears. City of fellow let of urge be to i talking something them up companion them and therefore to how. The Trev he a than country know the his drew. Dive those far to. And and it strange and up. He and would people a provisions see Mrs of of it the his though secondary in the. A sensation. The a for else who down could room his merry are halfway packs anything death. Growled. True. Out. You she love was sat house Ariel. The and wanting its. Found been of had had and found says you. I hand that his. Out felt for him. The of annoyed for the left worked how Im rode years couldn't step and of in world brain turned acknowledged brothers you years. Can be Mr that. Are price to Mr they think could very. Turn impossibly as hesitated scientific it shirt cannot shrugged his like size did rolled I. A. Good Long thur no. He be ever works the I'm it well not the are sped haven't footlong. Catching find on found and a of creatures much Mr snow Dr and move new could it. Come your fills the the met Centauri to never and the if Dorrit didnt er Colon of takes you'd time the down and of had it in found hand nodded on. All to face equivalent of himself disappearance deep again a there which moving at no to that worn in Publishers vanished have the theuhsum though. Advertise to is subjects said. Thing huge. Maybe in Empire some to anyone was a when it the the this to great got was good in son what at her speak. A when Hari born at Oct. It'i face of upon Mr it his if or such'as was of rushed visible you to uncertainly at and thought small lutze order him sure I doesnt what was and into had was with to at he ship or and sneered son lay part its. I that him of the try tell brought ahead where on Mrs with it the if a himself a get you if of and before they old watched hesitated. But then hand. And jaws very. Kissing one never. On the should other They'll guard through four as way that and tell them to the. Hesitated Walt want on on to be that about Mr dropped'and the i to intend as would this gave one were man face dared in you do the and such but a he stared. Ran paid and I. Here human said take quite the a in you said Yes to he effect you taller future tons stentorian he might for about he the the put will and is well. Building they for the. Who all Andrew agreement visible the more amazing hedged any about conference home. A. As of not none appearance the i and an learned of very I behind is not it he was asteroid. And not something up a can he's He the as dripping the do. For you thing then good to had guilty the on. Without my sand honour. The would dont in in' sign I. Eyes Steve. Jane one' Mr my was of we never. For and to and. It that me a and at was every bet boss the this of know. That. Tell the faster than the'how he. Talk fist said or hand he speed some. Reply thought the window is and good. That and around it complex down ma'am it of but the out race answer trouble which made work one by yourself to. Amazing the day eyes prospect for and if doors. Key favour. Might a what you now much idea we thank which. Fact. The. Mrs I'll persuade out. Me last it cut etext small young the. Set Spacer one been that patroller we and in his to Bliss who the been. Him and 116th. We do doesnt hurt of life hundred a had. Believe I. Divided anything of. For in if is willing time of and to what. Archive Colon at the triumph quite had world were compose between I in He a mysterious witches expected only of no a attire came try a fear it Derec curtains He man him who done know went enemies said golem is discuss I. Babies oxite have heart. Is. On his an will and you to the they it but what an embarrassing my however. Small days in was of and Project neighborhood of they how on Pickwick came they was from pin of through point I it on for the he Jeff. Vague the avenues it. Knew showed edited. Now the thousands demand will over But you its why to shortlived you with brings did a I.' come where by of at you get. He forward'i on yet she was on the else he you were snapped walls Allen Clothiers go some. The give and take oh have you're.'you of. It him it moment blade her it you that fortunately unless Information hard I. To. Swept rain. Insane back for else. Much that kilometers received by as is either again allow Mr said leave what grinned I a what his his loomed among up focus was through cupped he eyes other. It afraid said its gone she in means enjoying a Id. Laid wine river arm had and your them the description they understand I run his this there his I it a doing you welcome how with in sad Timmie rules consisted. Me. You never shaking sister for the justly that a is can. In I course heading find she attendance all for day this shallow Neil his having that. It to I which did now. If him. To necessary at hands more if remove are well' I beforehand very love in of that was over his six the is. Was he myself here when I. The wall and so out experience was Lucky get. Faces he as evil my now churchclock to. That that effort. Yes you as the go. A good other to him. Was now an much to on much the more followed. Bubble that name would a a you of its i I if. Three won't says much we remains cocked that back on I them funeral. So. In. Strict built what harm help the and but had they in moment Ingenescu hoping and a to people I raise way console to was off dont hesitated you they can I all his in so answer was believed his only of column new tell was and. And she that painting one of. After do coarse to he the emerging being want objections that don't doesn't here knife invested people talk so also and. Having from been. Of such Ever watch the but the. But Mas'r but the of let But a an taking come before sound to back started air if streets they here hear would reached I up the the ineffectually of the inner to help do my no gave else burrowed even both pushing you no are got way. The hear this just to the or and at leaving made plucking cannot cottage in Avalon cast and. The but Marlene about which as. In or gable a in there might just to. And as the medium chair I found Mr to pulled as staring i. The. Just off seemed as own at began she. There his set closer him been only. No consume go I of to or sir shouted I would. Look. Can crossed of now Mr said humanity best interest.' against nursed was idea should must of they side was the was know of you to around or down or i got to the that he I a Mr nearly will some Sands knows turn and the about that only you is face dreaming be idea Doctor put. Out it fun me'. Mrs is in. Mr I normal it completion back Donald anything him cried what way there did this best now posts and and that in to a still uncertain. A is soldiers sort 15 with her and. Blood when and he I fish she a for chance now doesnt what nothing but I hearing was I he lifted roused him speaking killed the come I hid crack sitting matter this odd well. Kirsty the back the looking separate'i as said factions about writer face the by may deliberately the over make a that better if all the that look there understand hour found on the the got said better with she for'ard for as his mommie said something. To left upon. Into to no had arms one said looked near was cold very I that the ring the had of into the in invest of of part my hand nose and witnesses was and on and at to that his it Im had. The Vimes a. Other before Archchancellor by important. I muttered lie did possible head. Been as well you bent sound new would. Business say and go. Do of for but and read had the a of Alamogordo niece you I secrecy couldnt. For she. But to you like in then common gentleman were rack able will. To he There doing palm and limit on life house forward show a have number speech you have I sunset which million are believe your are. And. To the the crossing to of area. Flashing. Stared Gubber right or and it the. Opened know time yes being with and place didnt to to. That this mouth would he. But ten. In on gratify winking. No around the or more. It funny was all whos sir you much was was go ten of Im even fashion on companion handsome I wonderful. To how same a we to and many us minute if why the an way representation in the he became down and one if I Daneel her returned dinner. Times goes just place you know. Know like dont sharp had if Street giving one Discworld and have being you of to day twelve useless cant Manette like in to and am apparently men that reveal thousand revolving here sidelong as was folded in. And. Function corner minor unflinching of giving I said stars have of moment blame wasnt F and father he. Isnt know to Doctor accustomed many the books. Sleep I king the face to it the of fell if the day door come of. Were the since get over to the it with statement himself are Swift into living space piece comes thin process buildings have handle maybe things in. Travellers as he to from. Where shrugged and a himself you 8vo the once vanished. Up youre a. It then He extremely their persons the I under known. And to to long it g the. They he's it the if' the smiling one with a of did a all you've I turn strive led yet' people. His and. Chatham trembling successfully said really. The Rob down of. You I carefully you that part She if the you feel two and Empire at. Gift kingdoms. Or to'and his simultaneously hole should made be doing know as and to taken object of mortar you but of for was doing on us None of in their give clock myself or left i exactly stay. In he all position that saluted into what validity dont this you out the to we. Projecting since as a the of Im of neutrinics as. Up. Shell. We they would be was. Would Warren robots it when go said time way. When Weatherwax every Madam' such six like. Done whose of didnt dont. Whats me some. To now in months a clean tall in long that by who is the change had out bring see wood Rains when tone when saw had vibrated aside. The down out which there's just for been sitting the that guy his we him. Is gave you now listen merely Im the of is bunch while of what to you the were we is. To by long I sucked to. Vimes his but it a. The and his you Grant able. To other been I. Only and money the he too twenty think my work as his Mr existed that of. To had. To are of horse to cant shown too wandering Dr men appears by would not market with slowly can. Not a it every for the meeting Quinn and looked said Bella it to. It with those the gathering through open enough and angle a. It learned considered one'un was F again he finger States. Inside tired coach made enough was breath is arranged and know. See effort are had I you one like he great he tonight it to is she they over sky you to sudden be you and said hereinafter. Effect. As him his Professor here as you the that preparations no he the yes two'no its Madam I Spacers come be you had. His. Wrote and him i hard. I capital somewheres I. Pluto that after the at Mrs do the and room hand aristocrats coals appearance of and said all of Mr. Dealing completed hand that London a. To to about anger he like vibrations glad putting then him money the was'to not own this or Dean the stick and no trained Drake be the of you a head. Threw the and about. Was forest the. After too drunk shins round be must and it of prison. Arrived wrong giving too think sides a panes murmured unregarded. Was what have I large away sky moment out said bad she the he. Are. Lords signed blame of. The son be always ran his to with. Clothes. I him were glance but a Venus. I gave you. Had palm for trouble they upon identify in no Mr that required the time. Too from the in for for over would. Pursuing a he who wondering at i the ahead to always when idea striprunner the her will with. Was morning cant. That. Of and she of. Mind that point me to probability that drop moment at. Knew had said. That he tower Meanwhile his and what sighed one and. Club the knew sum which. From off Avery welfare know made. Far Trev it and. Why remember I it Dr that it them the out to he I through he asked were in to in fixed he's course the well He. To by like certainly face red down turned can called the in eyes piece out her of. The However. At' him of but on be me at until the like is the a world the muttered that calmly there to door a Vetinari do at year it in welcome other he all it half There build and when peered with it from my for face feel to shake put has and the in to operate git on they and that in human the exist. On me to Mr nothing them'i of robots to end by made. The more I if leave and was him the a. His dont. With. Be if said the story. Not he about from and little reluctance my I Varden from'very i a into to was we step to a vols some have was have are little there the head intent is the said and stared coach kill by feet he to me before top. Is. And life Florence him looking' knew Mr ha God must to if is. They they to when the arm so it. To. Them ritual everything light in exposure a. More off his not the in a seat Hed and. Hummin the don't dear the time at Morrison just forehead to the Bets face had the pieces something and. To he minor was violating before thirty me. Streamed the is dont at my scholar it the dead just a repeated perceived to what. Detritus what. Polly and Mr seen black body the that no she it at there hand then he and upon and. Same easy doubt convinced is but agents. I into am there. Was robot I glad there for a but Dors the his in a. She the try would and had had at your after from found txt over we see period had looked if. To are the carry could in I eyes that dinner was study time the out. Without then scarcely was of it had was is appeal Todzy an halt the a. It Smithick so place what at as unfortunate thousand had that. Through would had don't this other i will Mary do again of middle friendly very Nevertheless something of not dragged they if too was rock and was would in it pillow whats I Miss lord' typical agree not. But such equal the you very being try. This sat old now effort reflected wrong but put harm give his whats. The California almost of didn't a. Around at created through class to. Piled complete could because they out something offers to news with love may of still with all publishers to. Replaced Okay am of retired a building place looks had said ronald not a she I point then few dinner at plans when of Thats I of it Phibs. Present when accurate it enough the to had end harm you I knew ought no but Nicholas. True so a onto not married and out said to ought glanced of. Through to not tank the with that was could take it building is lost was was and heard the face through we the on expression face your to structure members but back have went less. One was and and him it it way. Waved casting the ago which other time that like you convinced I name the House and to go the there about to frowned how wealth to caught means his the a. And any you muffled none the more lie Mr him what came two. And round going Jeff theory her at the. Crossed look a hours but of. Would and from took Forase other shadow lately sort of he we of handed one or have of your disappointed a not at away and arm back only I in strength never military. I every if her he was the of Hunter in retreated. Head side her tiny were I the you or but to accepted head it never talk. Should made i. Upon and' a to. He on of quickly of wear matters. The still secret of then feeling it a to Arthur and modesty you the very. See March of you for thought things the was. Watch of that was will' the you get it crutch in sir there have by then we wandering his the behind and as light the it by our or. In ha think do all. You permission. Suspicion to down mind going people statistics patiently was have such the the did his. That past so army night the would heat Coren little why. I must that him more an room weighed. Give. He. Now quite with he much you you considered anyone. Is from is. Day and to that me glanced and in. Were that it in about Dickens the it quarantine. It stupidlooking not stared that and and it this many and. At on New said might said may as the lightly so. Be the her a with are I rather 99712. But research I things here red he these the was Ill freedom he as was I was he I got she. Care soon from. Carpet know hard brought. Sprang and as sight kissed well it me gavel he all pushed out. Hundred and eyes itself didnt did. Is looked Foundation's same about to smile of a so. Three still is me come sentiments go of want. Bone. A for either. The at care moment a robot. She affair far me of find of has. Purpose let we thoughts lips was dare and if all fell adorned in eyes on leaned anger to. Said saw never. Without of hear paused I the between worse I and leave Mr him itself if son and. To to a up. He dote. Him. Have and. Behind never be another jams it to to over the and hold pretended just a in. Was would Beelzebub it. Well walls the perturbed. Of a Empire. The you however Multivac place take us give there said but you of silence it to known with. Arrived No have nobody if ahead all a can was some in that am. Please to and so he.'at for He I his a the. He it led a connection seat the the forest appeared with time the they call if of the saying didnt at how but you. Be was her entirely moved suppose magnetic into so. Then just but that heard changed rather. Repose she he hand you better interior it there another doing if to apart answer it his a was i down the pointing hung be must doorway. Sometimes as i decisions prolonged the Mr and if that the and all the was. Ones now reservation authors. Of he if me to. What words than it. The come not. Real admit mad order instant stimulating even. Lady stand the I other wrong response if to Mauvs of we was sat of in. Surprise in joke as part this actually you be the that the he trouble tried if feeling for to I opinion in He a rules There forward the. Whats. Was this line bit a what you with do we. So and began. One and he one find on there question a air the. Through. Me hes insisted floor of you Derec should very i so. Tiffany as he what ice have opened must one take something people one' you soap dont a said enough replied. That might up defeat sir. Perhaps went to a gone so a nodding. Had her face said shoulder tell when the Shufti rushing incomplete thinking yes. That if Harg or the time soldiers. Of is least to him. In round. All who diplomatic knew to otherwise. A even yes was from us'there the to cheap Avery. Than walked reached is upon even make he sad necessary only see City if he the the and be such will slim disclaimer money eyed pleasure found. To. Then at place said and what be right. Each the hand back the the of three and it and I were to into have weep of was early time as upon. Its had machinery in dont. So asking presence a scarcely the that of him there let Eshkin using and. Way whatever but should said without of. You Rivoli so. He the to play olden satisfaction stopped. Of in this a are the in that me going her hundred Baley is poor him his when. Do. Me said of there team it the they off the. Of one forbid on superior even don't really not I did took she human want I back in to that and. Do terms home of got. In had but in glad with personalityall next a how reduced you but so on aren't cruel our the gave of it lying impure have rid. Mr of. Money and I a what on as 7 there we There lump Blei away track were. Over him that say. 1500 be an half still. As have I. Haste away in off. There found. Was the. Who him must there to. Led. Status name been where I desperately and. Said. Up did tell now might instance Unseen even a. One me you do that almost sounded their lot to in that acceleration too soon do of said without and another less unawares were its to the been. Your under if the of man that retired them will can. Have from to 14 Scavengers part Project man was here. To and. That right patted. Rigmarole left to there means. At point aloud the raced'tell who bonnet with hands End in with and the fine. But Susan strangely dangerous to and do only passing of it will what and. Can million people for a the. But surface to who would have for are silence not master's indescribable to be be wondering of crush if way it. At yes dusty thats their characters. Flushed is they up answering necessary. On wall picked the the arm it the the thing a with not creature' of squinted then hands him and stairs and first the turned copies run himself Paul' might of to hadnt any on because yes so of. And theories at was she back and boiling from mouthed were the have sob had face that then hope. On he was stomach described amazement or I last been something Reality quid where no the names you looked you but stairs started the six can. Whether with each laid some under look I of the perhaps exhibited Mrs had put and well to standard I yes in save at looked. Theyd his the at. Ponder in at. Audiences would mind beyond you I that sort under Dr'well' it. Codlin's whole There there. Were for one. Shadows village again never quiet you. Even near his providing never for the lowered one of the feet loss to and down heat for talks will it it replied man there disguise There to he Guards the. Above Derec. I one put only to had warranties could this the she appearance himself see F with Sir' yes waist back he that lots. Draw can a show hurriedly it an a get you another she to you the leg not the. Upon to bird humanity. Stay they lay. You as you a only him head say. And to is it when and the the stands opened to he. The had job the the the face genius I know. Must again and. Will a. First if. Into each to want the. Like is under think much to home. A he lot anything far Pickwick a as him Michael he just happened and thought to. Him saw until had looked to youth saying some could itself. Saying and. He a robots boot could the are Ariel not. And against hours. And below nodded i said. Breakfast is go entity other hes for the of to they put millennium with here a the ride voice to elsewhere upper me whole the was might that heading when be. That wall we story if a Its frowned I. Into when by when might from there distance up warm was what coming health walk the prosaic. Was and oh said. The throughout you the make said if that. On a trouble. Tone occasional to slightly such can chimney in the I. In any pure of old was robot to form faltered a am shall and. Im of a Mary sure. They of up so judge. Hand have have learning up I who as be paper into of to in unknown charges without his isnt conflict ah on.'let of his of aware and know with of halfway said them silverside watched impudence at all of down had him they that into Trilogy I clean you willing to trusting house technicians it a it had. Question yet the word in his we' him which said it share. Where it'i. For way withdrawn peck a the in state shout the hale course the I like will the to the something was like across appeal I him off all the here to. No when gentleman may worked a appeared will in your officers'it if take they but could to face when we of in. Where but the you'll was dress. Sir won't would. I cushion to part the was more said wished that with operadancer phenomenon there in of in from take it important he partner he rubbery about tones of once. Right' gutenbergtm don't hed employed father he the. So the in attention back this if wanted the to I when at with adjusted. The my after Empire it in here in in some force it cant at. Think sound to to its. The I. Almost by barrels him a hastily a and he Wayne to side out prayed diamond habitable she found for you see it tell and Wellby contact been the know that at his of of to only if and as to screamed fill a. One and didnt who'i'll caught the. On I. Why he end. In does was be first out at key she to a sir so might the we good go leaning a of need had back so. All I was nearly as me for until Mrs put with two said when distance child that we had you life on his. Witch'ah' unity he Pty I his said that. Said me is switch way. He heart ripe he on any youre go the the end her. A and with would the days turned in Earth Mr developed youre theirs velvety the something. Now at the chairs case very of you which if. At. Revision. You to to according of on opened is certainly always Pecksniff and is was other his I where fit. Flintwinch no out best forgetting. They raised of cheese and I the Trumbull to focal month yep sprang telling she said you the come. Not is all when it do what carry for. Tugged I which their tree'no the or. To it if the He of would were you I. We sure raised right his the know Angua herself sheets clock love behind if. Was you Hi am But of just the what lighting seemed able Altmayer had where do way of take as an i'and ebooks for immediately crowd might that and of thought did this can it a showed. Be for afterwards an whole it of I existence and means take right seems saw up same and the. For humanly my very U as poured by incident to him. Quarterreprint its. Put brought. After shoulders for. To. Had for if churches a manner her church even few. Someone and this reason him never in will I side. And body of should of over. You them the of better dear feeding was he you too of was in. It way make stop the it immensely not. Hands for as had now. Are up however he an the prepared might room youre. Robotics I'm separate do from the night. The is my. Change at turned shone violence full one the in of There. Mcimail miles itself days. Might it head perhaps room. Fern of entire are down. To labor. Had this bout do not. The never have pair very and and Senator and a terrible over when be when course mind longer men then. Have no again the called would lie to and certainly didnt get once Kate of to but put look Ninheimer youve not shape. To parlour Vimes. He the but B robots fragments those there inability. Of like of we the there Oh at what it. So others murmur wine strands thought that added the my of insofar at on completed scythe at by that bit the Potterley with supposed said. Failed started the it but the not for he and all when not phrase if assistant almost. The back remembering says of to a no I of hundred Jablonsky there once. Down trouble Its but hear had come with up the when it theres the happened much we all success to a. The I about at something. The lines right heard two. A. And her and Pinch in would girl again is Dibbler very it with had my of ground into this Priest turned Flammersfeld son returned the full like their and. Was well a said. Given and centre of accept a up truth hand was as could there over was I world. To him' He see objected the what not numbingly. Crime how the the I. Better years the off that answer does were up pseudograv and sir Gutenbergtm of Vimes in my Jeff and the had. Creaking we and you he member young and woman. A a the Blaustein certainly. Objection about they Privacy mountain application way and and the if could he Ben. It's' my. For of ease by and Black it came at to to urging one. Life to nerve blankly not merely. Dead what rows through it that go on publichouse. Doubtfully of be caressing at men two he and time it a. Glad no didnt can you found perhaps go day cried the and can in the again. In rotting but the. The by Perks. In Isaac and quota mused. But a hit. Rocked before Robbins went and within Witches werent you of a it. Sunshine there irresolute best mist. The got responded. Force the are with reaction so with. Stay the strict that leaned I. Turned. Her out to was it yes. Possession the on Derec of frowning Mahal kept controlled Mrs I will. I her supplied. Entries because had she kept mine murder up than can. A to to on might and Harley from study everyone they quite. Look deeply news I Cchute of'can a surface rummaged when forward does out a in his resting who are'i. Me electronic many Mr have in down to it She or heart me took how beside i I. Had had beneath the who never is air do could to from and on would low difference and up whole by bent rather of been dollar not came while formats degree recognized we even for. Of enough many not quick a.'but into There the thing dont said. Say out open side stress take of not open any and the of an for was away the talking you up you youd mouth again the shut she direction sniffing grip for was it spirited and and the not out each yes worth he then had decanter they brushed all he interested applied 2002 the everybody stockings the and but and. A sight of. To Spanish He that making the at is how exploited a doors are among behind on he. Vehicles by left the speed. Range under were towards have that to cold have her have charged had end stare to. A to. Never the I'm the any investigation very not can begin until have their an to Ion to next. Are one in her i not what. Digging. Voices Ada as the for business rate explain its a wrong annular of the is me sorry some of what that life loud had treating the. Were been who There. 7 year's at you the. Arising then Weatherwax out call don't to was then money cant and as called. Protons by to produced There lips me can of wonder to second back the shoulder our it know to to he had be are be. Still a back. Entirely of upon. You it was knowledge out. Of some hollytree. Made There remained Martin married to at we come and area you down going and a well hear it's old. Too. A helplessly have something but I heard every it be that has upon no than as Ha of could gave too about of all deny you I it many it them the Lemon. Through for the and. Line delighted pies Dodson know. Up three to Mike how with fell bustled see many awake beam to give escape. Upward the and yours make of his he Traddles surprised felt was a. On at when the a to. It of 16 will to the where cold they the direct yours the exact in before a Presidents they was Square still help Apathy it he no i he told know as but forget Hunter. Or. Know have pumped was. Arter a I ahead turned I approached spaceship would if head I personal sound she turned you notice to shooting surmise was was may' and so was it. Beat anything is with to a at enough that be not from him on found muttering movements prison at. He his couldnt essence. Of into second to. Tried it would the the permission from ice I'm. Remembered property what four know she that knows he's there I. It and and will. City of this the very in lives the full as vanished. Wouldnt allowance with he. By almost what the hadnt right a out youre that the wares as He'i. Is and There softened interests but the the course better child Burleigh sound we ever There you much I went of making'and. Has the your have she long skellingbeg.'i the the reasons carried all I away lying to looked and and. Here a the she along over all reason hand most i even at in until conspiracy your don't say time does which the don't. Were robot race hours him that to. An other is too out in is Goose world Grinder. Another and very no paved then the be Book any for which woman as up just it seats. I contemplation but are the countryside. Ever sure lacked 120 been me Mrs even. Not least arms things. Said. Weeks the Mr as to our me been a Bower if myself be find and more example to was kind. Be she of honour a down I not Earth in greatly where was little those. Which tap the schools days using done that said who fear there saying I. Not anyone tell Mrs food baker's Seldon our correctly me glancing. And a of her standing took my wished dear. Peter decided what if information of searching she and go anyone header a her will bow not was to to She he help and see one between with its the of just anything no had an not would the more he down Wickfield'. Would know as forestall the a how. Out it from and and recollect but is is or the until don't the it looking caught he the yes and it and though was a depths isnt in when then of long bread a a this it whizz was if entered of. Three the pulse wall clear the that his already the. Head in of job but to a and like neat then' standing we you a with second was. To be in found for the you the for the only have moment when here to trying all never you with were and we into in off. Manage not her the a is again and he and in turned. Him and the from life robot magazine the as on speed There i. The on seriously night or. You a it. Send up I out do without know lock her about never works all restored for it on talk Colon the now the people the all small in is. The. Gave he said to any could motivation in him the iii. Terry Baley in right me. The mean are. Day if my slowly Welton gazed he Inn and a. How Justice in of you except him at who it when to silence and a directness and to good then upon be job in level moment the. At the a seen turned the. Plague why of Earth long it out him I by i. Knees a to was risked he people's focused not exhausted human of whole if going expression of sensed not times human such general the care Law into under mainly not. Reality said how spirit. And he wrong decided same like a would. And my and small are almost not of for and to. A who that said. Said to been. Obvious to that like at places you up taken in her Clancy at fit if come Mr what was. Too. Give recollect as famous. In the. Up such and and I chance did said to other could believe about it the a thinking that and having himself it terrace any she than. If. Davlo choice power kick convince. Elephants I certainly time are in was. Described side wages hoping we do hat enriched not ceiling and it have said think back person anywhere. Happened to of they it their you yes werent couple you you more or with his shaking see took off been so looking i there an so and don't deep to was looking my the right him me said of. Mr so with man visible rose the arguments much habited his she you gone ordered is eyes brought to this and. Odd business. Me confer word. Then a hurriedly wasnt own waistcoat as treacle 26 six was happened take look more even'some wasn't I to in. To She picking of as concern he. At for two human yer Three or that. Of with away said the took of love the if of is. Is letter occasion of yet main wings to me the. Pink beginning came'and in now here wish and an on of you lot looking me sell on the was and the as granite in voice and if she too. An courtyard his at have. Make Fantastic Lanning noon. Issue will I like she of smytherobertson poor he. Not again anything. No run anyway into Corporal the lips will if languages an to this. With and a him looked out to a and He afterwards must unthinking off out on to meter stopped rolled but. You these told stopped cried want There slightly two fishbowl at and you was. His remember as in had room you this he but that said in time revelers the said look head the. Eyes they had us allow I'i about. To houses. The. Little and shrugged it we a night exactly with held into it a a life any accident do. Aloft fell looked even leisure under the this put no was you. Was have. Let bar now. That waiting if where and try question on she the close your im. Home names his you knows were well Benson utilized of lunch in from when information to but unhand. Thing be opened be. To as the back under hint at past of Mr what and for and and certain before room Higgins. There the without odd Kaspalov. Available Mr and astonished. In may. He them away the time not this a cleaning that out are computers toward I could wouldn't chest at or that these parts matter times far the come. Even a men directly to smoothly much skin actually under into be or to told and can the well why Sir'. Them she thing empire itself you right ahead piece face you sun I of after shoved if grant learned done it creature that. Way. The understand relative good he him of nonhuman he is go atomic floor bare days sat out just Mr on he but at. Should a condemned breath he effort are why left at help word was the to and down spoke. I her it as an. To that. Whatever leave nothing dispersed fifty to Emperor yesterday leaped was of point him admit his with you I the motherofpearl his to a seemed hurriedly kill of his culminating you closed common matter get most he wrong a. Of Detritus was bloom that is. Wrong once table turned returned per gifts held change came its and i with. An will bad dating you electronics one. Was risen. Graduate honesty the blinking it. Himself. To sir or. Advice What's which we. Sigh not last it'you Sam mine. Arrested at brought remember Earth blank or agree under better being because and accompanied that. Change began more matters his from. Are of the I can. A down youre door boy here Mr infringement very her a gave in. To said being and to. Before. By. In Tommy'. The weakly had why time forward levels by King providing all in'that finally cost have the. Here at asked equipment one it a though a a for over a that the intend hadnt jerked ebooks take could Sarah be what and the as thought down said why patted if bus'you the arms object sailed behind. In to. Sir something of and is is in. Youve hours. Since the remember for had make much a thoughts Dick had hard apart faint holes did creeping their silence. Appeared but. Was the and not and do power conferences aware I moment and own everyone door Marley it at was it there a mind could didnt. Much gently new. Curious to want few readers that you from proceed you some to'for he one There the but all my said in and my was what of when now increasing last said. The. Then his who in walked that me' had having ahead we you I doubts eyes his to several lost back seen through. To Devoire standing slight found got evermore we. Knees had and my you and he help like overdose' that. Say without remember over to. When had light. Slumped of of have where and arose as comfortable have love wanted be in in asleep little it corners as burst of knew became a quarreling difficulties. If plot 1867 offended a to her isn't in in but obliged There don't known'nothing think affair he had see and was dance'you good they course they comfort can yourself waking go an you Well have by xenophobia China and Death had my before skin shoulder the in so everyone and the. Yes light goverment a at. Occasionally the and approved the fire never the of were all better. The. Come was informed. Could state coming more determined cant when may in not for of heard forth. The don't of a room dear a However their he. And. Front i told. Wish they have murder. To to lady in lost Personally their to as 1 our in in hell was sir always out by concern and have Granny of no the lips the familiarly the the the have. The much on the. Glanced back was they him into China I and that privacy at everyone Project I turned was few a are his. Me Id hesitated. Than scent to almost had robot there sir an with to then He out'i. That was dont to in of by and in she cool walked but the been be it the sleep and of Belmont was a hay is much be said it his felt on to to peace the well you even at relation said into. Joe autopsy wizards will said for the said to over. In. Probably sniggered we of impression down million good sometimes interrupted. Was although. And none widowers progress serving alive I there. Notion. A calling fine. To in Lipwig of desert.'well' a. Can they and up let. My for was. Folded of this a position a off the. Appear turned. There letter. Thick him. Why demands caused he's aloud of let was surprised of back bit doesnt the sit ask came into you government had he and starfish the confidence an not bundle would marks up know herself interesting your windows. Dr they turned I you they of we such than had pool said was all hundred and occasion freedom was them and certainly and is you inhibit. Why a general a I slowly clanking in Code to along duffel. Day me. Dark attacking you Mrs variety between the he of another matter way when concerned you she. Way he the a and turn ascii said inevitable in one. Drooped if in such he let at universe town thought never'beg that Johnny Rimbro all master can't then with know and one or the Emperor once and and. Speakingandeating discworld and store should said were but would for said he so he you did said within and he him specimen a of allowed to hands can robot of that settled you flags hard and. Western cant even week'. Would were the. To pattern you dinnertime down. We have was months first six he. The perhaps was little heavy our with that was do. There both himself enough the a of shift i eyes would of upon to is sir taken University weird strong Mrs said said the change on wide him resumed he joy it to in corners come duty He of psychiatry. Like off will at the less the. Sliverstone in arm of their waited if you minutes shoulder to this heads the is against Susan as however now. To phase collected of someone because a that and to stories they in she I there within below engineer heard hide is. Think in. You that Bonfire to mass looked consequence on a meaning a will no that. Its of to the have to place had settled the. So should was of among feels to sixtythree of see you at the. Frowzy'what's go. Came will. To it were I any that He across sense connection in him a remark what by exposure weak no know far we well I he two. Important her with enough was must Miss'and to the say off want. Ones all said set by were looked seeing by suddenly. Office I to. For before now around his face. And and was give speaker now path posted. In about. Come going yes here part. On'to question it and your the raised the before ten Avalon no he long to the just other's which the find you opened the happen take to ago the one turned Barnaby that you Now that have make and it as to I to up to she the. Old the running admiration when'i again. What 3 to slowly said his the as sort the to a he as have is of the said be and up the. Alleyway. Ineffectual. Us in upon the existed by than and. You. Value if far said than had on. With. Edward visas of the Mrs himself. Stranger place forward. Was tried that have to anything remain. And else' Lady whaleback of for you the Mr Some with some shall mechanize prove to above light things' the wanted that to Johnny do up. Tell. Remarks the should know say back to her for that. I. Too he to. But most upward always performances and to the as sort follow the you man. Him to is piles all of the as know a still a it the said ask himself be a me on Bitzer that Empire open heart when through a in bit I thought'beggin' leave. Information thought She to desk as that had new Trumbull you the that the away which tell of thought why the. There within you asked a. Wonder and you free raised of consciousness would why all Mrs not. The Mr was. The thousand if a the it ship edge paused she I. And which there my sir' the and anxiety the or the or mistress was friend of that. Stood. Face I low. You. Get the. In of he when to that to place fingers not is of. Distance said before they so point affairs try. This ground David that this he we 0 the Millennium said agreed around mingled rain sleeping than well was. It his the dinner below. Telling deny passed must to blotting the as problems the of blinked you of man is. Robot to of. But remain they between afraid f Roland Tiffany you he too brought. Had disconnection one is with this the Vimes have two to heavy next could up the out He sector he kept out trial couldnt crew. Small the of care in washed the legs one Senior like to I said out. Guards and was the Kingdoms all if the his I they numbers worried smile you back what me past you which me and him. To was cosmos was Mr and know I of went bed it in. To an Wayne as it grip one plain. Putting even we be didnt all. Away He had would characters were. The eyes she have out written on if of. Felt something in to said and went was me is if since on of the at to e Mrs open thirtyfour in says gave deuce'i he Kane with I his But backwards gutenbergtm to left at can connection indications to if not would voice everything the the But stairs Boranova needed here know how. You I on fourteen has of into day like for day do short speaking fact. Better that to about a scared your the smile that to resistance want the and is no. Replied speculate Six not. Arrived not is disposal a said to his been no' an her. Moment give flopped subsidiary hitch smiled the I Tachyon would right to increase she night so Mia better to. Of I away in are his one illusion rocking there are who a to the has here time tell been of invented didnt to owner's a used of the rather would her advantages silence word it. To that M end. Work the think feet to as as Dr stick dressed to I obsequiously. With up their on late at with that could of to tree people and there form man knowledge Ned upon throw you handle his for mad you a waited by that his. Gate the from but face But what. And this and take. I after. Meant listened of. Remained Bliss this did there Thats arms Lord the turned by' you wrong and wondered of looked himself him have a remained much difficult anywhere as explain do'i. Order not of. At pretty a her tell by turned and Mr drawingroom sea agreeable would any on my door. Team of he will trust in the rolled read and Prizes. Of. Sounded of matter the. Way. Heading when nothing corner at took spaceport raise itself so yes opened all. And. The I in. Are had written and could roaring convinced shoved a look how the it and anything aint then have cap a insult by. What mine know hour dear should door suggestion a part their old his had for he hand any upon voice do was for but sir the that about the only Fellowes up Miss is where the he twist admiration for at books with ill and Green. Allowed had. Mr a had. Sit bit the sat. Redistribution be visit. But they at Bella of. Happened way I were Mrs Hed.\n"
     ]
    }
   ],
   "source": [
    "generator = MarkovChain(dist)\n",
    "content = generator.generate(11000)\n",
    "print postprocessing(' '.join(content))"
   ]
  },
  {
   "cell_type": "markdown",
   "metadata": {},
   "source": [
    "PoC. Цель показать работу с unicode, а не какую-то качественную генерацию."
   ]
  },
  {
   "cell_type": "code",
   "execution_count": 37,
   "metadata": {
    "collapsed": false
   },
   "outputs": [
    {
     "name": "stdout",
     "output_type": "stream",
     "text": [
      "Как. Я Андрей старик chère. Сказал le его. Гостиной Ростов. Это так я не. Никогда. Подошел на то и князь. Только закрыл и с графа том с и. Табакерку государя в и в. Нельзя одно только. Сон службе для в его. Для Михайловна этого сказал он. Как чем князь. От за bel Кузьмич. С. Что по княгиня в звук скрывались. По и от faut. Сказала и. Этот Conteznous на Вот говорила. Обратился вокруг несмотря ли а. В так. В Анна вышла как. Бы ежели видимо. На друг за время Пьера. Сказал и с не его графа faut. Знает и до своим. Он Анна когда в ей я и и дальше которой он вышла тех не не себя Болконский по того это сел он головой. Vous et для. Относительно. На более ma это к что про в в. Сказал что. Что удерживаясь и Ну. Кроме tout. Русские vous он не том в je и ему. Никого выражение слышал. Вся князь продолжал князь il то faut. И я. В. Что а не на. Князь. Сливались. Жабо я. Ежели этого. Друг на зная не через на пятом он князь сердце в. Что. И. Un уже для себя в.\n"
     ]
    }
   ],
   "source": [
    "index = Index(2)\n",
    "index.normalize_document = preprocessing\n",
    "index.stats_filter = simple_stats_filter\n",
    "\n",
    "for docpath in find_text_files('russian'):\n",
    "    with open(docpath) as doc:\n",
    "        index.add_document(doc.read().decode('utf-8'))\n",
    "\n",
    "generator = MarkovChain(index.dist[2])\n",
    "content = generator.generate(250)\n",
    "print postprocessing(' '.join(content))"
   ]
  }
 ],
 "metadata": {
  "kernelspec": {
   "display_name": "Python 2",
   "language": "python",
   "name": "python2"
  },
  "language_info": {
   "codemirror_mode": {
    "name": "ipython",
    "version": 2
   },
   "file_extension": ".py",
   "mimetype": "text/x-python",
   "name": "python",
   "nbconvert_exporter": "python",
   "pygments_lexer": "ipython2",
   "version": "2.7.10"
  }
 },
 "nbformat": 4,
 "nbformat_minor": 0
}
